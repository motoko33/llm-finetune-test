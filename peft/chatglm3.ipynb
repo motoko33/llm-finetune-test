{
 "cells": [
  {
   "cell_type": "code",
   "execution_count": null,
   "id": "323b27c1-0380-4f0e-baca-247a4ad130a4",
   "metadata": {
    "collapsed": true,
    "jupyter": {
     "outputs_hidden": true
    }
   },
   "outputs": [],
   "source": [
    "!pip install protobuf transformers==4.30.2 cpm_kernels gradio mdtex2html sentencepiece accelerate\n",
    "!pip install -U torch"
   ]
  },
  {
   "cell_type": "code",
   "execution_count": 2,
   "id": "2cda24e6",
   "metadata": {},
   "outputs": [],
   "source": [
    "import os\n",
    "\n",
    "os.environ['HF_HOME'] = 'D:/Projects/test/mnt/new_volume/hf'\n",
    "os.environ['HF_HUB_CACHE'] = 'D:/Projects/test/mnt/new_volume/hf/hub'"
   ]
  },
  {
   "cell_type": "code",
   "execution_count": 3,
   "id": "90dcc2cd-8960-4982-8565-5c0f82dd7889",
   "metadata": {},
   "outputs": [
    {
     "name": "stderr",
     "output_type": "stream",
     "text": [
      "d:\\anaconda3\\envs\\llm-test\\lib\\site-packages\\tqdm\\auto.py:21: TqdmWarning: IProgress not found. Please update jupyter and ipywidgets. See https://ipywidgets.readthedocs.io/en/stable/user_install.html\n",
      "  from .autonotebook import tqdm as notebook_tqdm\n",
      "Loading checkpoint shards: 100%|██████████| 7/7 [00:03<00:00,  1.76it/s]\n"
     ]
    }
   ],
   "source": [
    "from transformers import AutoTokenizer, AutoModel\n",
    "tokenizer = AutoTokenizer.from_pretrained(\"THUDM/chatglm3-6b\", trust_remote_code=True)\n",
    "model = AutoModel.from_pretrained(\"THUDM/chatglm3-6b\", trust_remote_code=True).half().cuda()"
   ]
  },
  {
   "cell_type": "code",
   "execution_count": null,
   "id": "3b00a441-c27e-4d55-923b-02ce6deca3bd",
   "metadata": {},
   "outputs": [],
   "source": []
  },
  {
   "cell_type": "code",
   "execution_count": 3,
   "id": "c3bf2ef9",
   "metadata": {},
   "outputs": [],
   "source": []
  },
  {
   "cell_type": "code",
   "execution_count": 4,
   "id": "8471cf60-7ddb-46e2-9701-93b8db6e63e7",
   "metadata": {},
   "outputs": [
    {
     "name": "stdout",
     "output_type": "stream",
     "text": [
      "你好👋！我是人工智能助手 ChatGLM3-6B，很高兴见到你，欢迎问我任何问题。\n",
      "晚上睡不着觉可以尝试以下方法：\n",
      "\n",
      "1. 保持安静：尽量减少噪音和光线，营造一个舒适的环境。\n",
      "\n",
      "2. 改变环境：适当调整室内温度、湿度以及床铺的舒适度。\n",
      "\n",
      "3. 规律作息：每天尽量在相同的时间入睡和起床，帮助调整生物钟。\n",
      "\n",
      "4. 放松身心：在睡前进行一些放松活动，如深呼吸、瑜伽、阅读等。\n",
      "\n",
      "5. 远离电子产品：睡前一个小时内避免使用手机、电脑等电子产品，因为它们会影响睡眠质量。\n",
      "\n",
      "6. 保持运动：白天进行适量运动可以帮助晚上更好地入睡。\n",
      "\n",
      "7. 饮食调整：避免晚餐过量，尽量不要在临睡前摄入咖啡因、糖分等食品。\n",
      "\n",
      "8. 睡前习惯：在睡前逐渐减少活动，放松身心，帮助入睡。\n",
      "\n",
      "如果长时间睡不着觉，建议寻求专业医生的帮助。\n"
     ]
    }
   ],
   "source": [
    "model = model.eval()\n",
    "response, history = model.chat(tokenizer, \"你好\", history=[])\n",
    "print(response)\n",
    "response, history = model.chat(tokenizer, \"晚上睡不着应该怎么办\", history=history)\n",
    "print(response)"
   ]
  },
  {
   "cell_type": "code",
   "execution_count": null,
   "id": "e7189aa0-972b-4ca7-8e93-7cf1664b72d1",
   "metadata": {},
   "outputs": [],
   "source": []
  }
 ],
 "metadata": {
  "kernelspec": {
   "display_name": "Python 3 (ipykernel)",
   "language": "python",
   "name": "python3"
  },
  "language_info": {
   "codemirror_mode": {
    "name": "ipython",
    "version": 3
   },
   "file_extension": ".py",
   "mimetype": "text/x-python",
   "name": "python",
   "nbconvert_exporter": "python",
   "pygments_lexer": "ipython3",
   "version": "3.10.12"
  }
 },
 "nbformat": 4,
 "nbformat_minor": 5
}
