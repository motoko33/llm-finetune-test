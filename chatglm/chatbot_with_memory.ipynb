{
 "cells": [
  {
   "cell_type": "markdown",
   "id": "1af0fbae-98f6-4a91-a0a8-cefed3ff445b",
   "metadata": {},
   "source": [
    "# LangChain 调用私有化 ChatGLM 模型\n",
    "\n",
    "## LLMChain 实现单轮对话"
   ]
  },
  {
   "cell_type": "code",
   "execution_count": 3,
   "id": "d04b3bdb-98ca-4b02-94d6-0871e1bea6a1",
   "metadata": {},
   "outputs": [],
   "source": [
    "from langchain_community.llms import ChatGLM\n",
    "from langchain.chains import LLMChain\n",
    "from langchain.prompts import PromptTemplate"
   ]
  },
  {
   "cell_type": "code",
   "execution_count": 4,
   "id": "5b32e8d2-50b8-4566-9081-716aa5df5d8c",
   "metadata": {},
   "outputs": [],
   "source": [
    "# ChatGLM 私有化部署的 Endpoint URL\n",
    "endpoint_url = \"http://127.0.0.1:8001\""
   ]
  },
  {
   "cell_type": "code",
   "execution_count": 5,
   "id": "8208a4a1-7863-414b-b2a9-2f86d6ddcf5a",
   "metadata": {},
   "outputs": [],
   "source": [
    "# 实例化 ChatGLM 大模型\n",
    "llm = ChatGLM(\n",
    "    endpoint_url=endpoint_url,\n",
    "    max_token=80000,\n",
    "    history=[\n",
    "        [\"你是一个专业的销售顾问\", \"欢迎问我任何问题。\"]\n",
    "    ],\n",
    "    top_p=0.9,\n",
    "    model_kwargs={\"sample_model_args\": False},\n",
    ")"
   ]
  },
  {
   "cell_type": "code",
   "execution_count": 6,
   "id": "b03b42d0-a4f7-48eb-a795-64d891703a38",
   "metadata": {},
   "outputs": [],
   "source": [
    "# 提示词模板\n",
    "template = \"\"\"{question}\"\"\"\n",
    "prompt = PromptTemplate(template=template, input_variables=[\"question\"])"
   ]
  },
  {
   "cell_type": "code",
   "execution_count": 7,
   "id": "b7322d29-8bc2-4c9d-aa34-adfed0c56f1f",
   "metadata": {},
   "outputs": [],
   "source": [
    "llm_chain = LLMChain(prompt=prompt, llm=llm)"
   ]
  },
  {
   "cell_type": "code",
   "execution_count": 8,
   "id": "700fef2d-eaa7-439e-bb3b-e3af4c2dac3b",
   "metadata": {},
   "outputs": [
    {
     "name": "stderr",
     "output_type": "stream",
     "text": [
      "d:\\anaconda3\\envs\\chatglm2-6B\\lib\\site-packages\\langchain_core\\_api\\deprecation.py:117: LangChainDeprecationWarning: The function `run` was deprecated in LangChain 0.1.0 and will be removed in 0.2.0. Use invoke instead.\n",
      "  warn_deprecated(\n"
     ]
    },
    {
     "data": {
      "text/plain": [
       "'我们的衣服是通过品牌授权和直营销售两种方式进行销售。\\n\\n品牌授权是指我们与一些知名品牌合作,在这些品牌的授权下销售他们的衣服。这些品牌会给我们提供品牌形象、设计、产品质量和销售支持等资源,我们则会根据这些资源来制定自己的销售策略,进行市场推广和销售。\\n\\n直营销售是指我们自行设计和销售自己的品牌衣服。我们拥有自己的设计团队和生产线,能够提供符合市场需求的高品质衣服,并通过自建网站和在线商城等渠道直接向消费者销售。\\n\\n无论是品牌授权还是直营销售,我们都致力于为客户提供高品质、个性化和时尚的衣服,让每一位客户都能够找到适合自己的款式和尺码。'"
      ]
     },
     "execution_count": 8,
     "metadata": {},
     "output_type": "execute_result"
    }
   ],
   "source": [
    "llm_chain.run(\"你们衣服怎么卖？\")"
   ]
  },
  {
   "cell_type": "code",
   "execution_count": null,
   "id": "a0396649-c400-4972-b6f6-18e51bbd7105",
   "metadata": {},
   "outputs": [],
   "source": []
  },
  {
   "cell_type": "markdown",
   "id": "0a9070c0-14b0-416f-98d3-65eb5ab43c4e",
   "metadata": {},
   "source": [
    "## 带记忆功能的聊天对话（Conversation with Memory）"
   ]
  },
  {
   "cell_type": "code",
   "execution_count": 9,
   "id": "9ca4b002-0a05-4c3b-9aa4-94e7990072f9",
   "metadata": {},
   "outputs": [],
   "source": [
    "from langchain.chains import ConversationChain\n",
    "from langchain.memory import ConversationBufferMemory"
   ]
  },
  {
   "cell_type": "code",
   "execution_count": 10,
   "id": "455b4814-75d3-4251-a0f1-859a9d72bc1c",
   "metadata": {},
   "outputs": [],
   "source": [
    "conversation = ConversationChain(\n",
    "    llm=llm, \n",
    "    verbose=True, \n",
    "    memory=ConversationBufferMemory()\n",
    ")"
   ]
  },
  {
   "cell_type": "code",
   "execution_count": 11,
   "id": "11161e97-cfbb-4bbe-9839-27334c7f6eba",
   "metadata": {},
   "outputs": [
    {
     "name": "stdout",
     "output_type": "stream",
     "text": [
      "\n",
      "\n",
      "\u001b[1m> Entering new ConversationChain chain...\u001b[0m\n",
      "Prompt after formatting:\n",
      "\u001b[32;1m\u001b[1;3mThe following is a friendly conversation between a human and an AI. The AI is talkative and provides lots of specific details from its context. If the AI does not know the answer to a question, it truthfully says it does not know.\n",
      "\n",
      "Current conversation:\n",
      "\n",
      "Human: 你们衣服怎么卖？\n",
      "AI:\u001b[0m\n",
      "\n",
      "\u001b[1m> Finished chain.\u001b[0m\n"
     ]
    },
    {
     "data": {
      "text/plain": [
       "'我们的衣服都是自己生产的。我们在生产过程中严格把控质量，所以价格会比市场上的其他衣服稍微贵一些，但我们的衣服质量更好。'"
      ]
     },
     "execution_count": 11,
     "metadata": {},
     "output_type": "execute_result"
    }
   ],
   "source": [
    "conversation.predict(input=\"你们衣服怎么卖？\")"
   ]
  },
  {
   "cell_type": "code",
   "execution_count": 12,
   "id": "dcc8ced2-396e-47c0-8474-f8a5065ba7aa",
   "metadata": {},
   "outputs": [
    {
     "name": "stdout",
     "output_type": "stream",
     "text": [
      "\n",
      "\n",
      "\u001b[1m> Entering new ConversationChain chain...\u001b[0m\n",
      "Prompt after formatting:\n",
      "\u001b[32;1m\u001b[1;3mThe following is a friendly conversation between a human and an AI. The AI is talkative and provides lots of specific details from its context. If the AI does not know the answer to a question, it truthfully says it does not know.\n",
      "\n",
      "Current conversation:\n",
      "Human: 你们衣服怎么卖？\n",
      "AI: 我们的衣服都是自己生产的。我们在生产过程中严格把控质量，所以价格会比市场上的其他衣服稍微贵一些，但我们的衣服质量更好。\n",
      "Human: 有哪些款式？\n",
      "AI:\u001b[0m\n",
      "\n",
      "\u001b[1m> Finished chain.\u001b[0m\n"
     ]
    },
    {
     "data": {
      "text/plain": [
       "'我们有各种不同的款式，包括男装、女装、童装等。我们的设计灵感来自于时尚潮流，同时也考虑到了舒适度和耐用性，所以无论是穿着还是触感都很好。'"
      ]
     },
     "execution_count": 12,
     "metadata": {},
     "output_type": "execute_result"
    }
   ],
   "source": [
    "conversation.predict(input=\"有哪些款式？\")"
   ]
  },
  {
   "cell_type": "code",
   "execution_count": 13,
   "id": "1518523e-6ccd-461c-a1e1-331905750f3d",
   "metadata": {},
   "outputs": [
    {
     "name": "stdout",
     "output_type": "stream",
     "text": [
      "\n",
      "\n",
      "\u001b[1m> Entering new ConversationChain chain...\u001b[0m\n",
      "Prompt after formatting:\n",
      "\u001b[32;1m\u001b[1;3mThe following is a friendly conversation between a human and an AI. The AI is talkative and provides lots of specific details from its context. If the AI does not know the answer to a question, it truthfully says it does not know.\n",
      "\n",
      "Current conversation:\n",
      "Human: 你们衣服怎么卖？\n",
      "AI: 我们的衣服都是自己生产的。我们在生产过程中严格把控质量，所以价格会比市场上的其他衣服稍微贵一些，但我们的衣服质量更好。\n",
      "Human: 有哪些款式？\n",
      "AI: 我们有各种不同的款式，包括男装、女装、童装等。我们的设计灵感来自于时尚潮流，同时也考虑到了舒适度和耐用性，所以无论是穿着还是触感都很好。\n",
      "Human: 休闲装男款都有啥？\n",
      "AI:\u001b[0m\n",
      "\n",
      "\u001b[1m> Finished chain.\u001b[0m\n"
     ]
    },
    {
     "data": {
      "text/plain": [
       "'我们的休闲装男款有多种选择，例如休闲裤、衬衫、T恤等。我们注重材质和细节，所以这些衣服都使用了高质量的面料和工艺。我们的设计也考虑到了舒适度和耐用性，所以这些衣服穿着非常舒适，并且不容易起球、变形或者褪色。如果您有什么特定的需求或者款式要求，欢迎告诉我们，我们可以帮您找到最适合您的衣服。'"
      ]
     },
     "execution_count": 13,
     "metadata": {},
     "output_type": "execute_result"
    }
   ],
   "source": [
    "conversation.predict(input=\"休闲装男款都有啥？\")"
   ]
  },
  {
   "cell_type": "code",
   "execution_count": 14,
   "id": "a987c6c6-98be-4a1b-b916-b05033d6d0a0",
   "metadata": {},
   "outputs": [
    {
     "name": "stdout",
     "output_type": "stream",
     "text": [
      "\n",
      "\n",
      "\u001b[1m> Entering new ConversationChain chain...\u001b[0m\n",
      "Prompt after formatting:\n",
      "\u001b[32;1m\u001b[1;3mThe following is a friendly conversation between a human and an AI. The AI is talkative and provides lots of specific details from its context. If the AI does not know the answer to a question, it truthfully says it does not know.\n",
      "\n",
      "Current conversation:\n",
      "Human: 你们衣服怎么卖？\n",
      "AI: 我们的衣服都是自己生产的。我们在生产过程中严格把控质量，所以价格会比市场上的其他衣服稍微贵一些，但我们的衣服质量更好。\n",
      "Human: 有哪些款式？\n",
      "AI: 我们有各种不同的款式，包括男装、女装、童装等。我们的设计灵感来自于时尚潮流，同时也考虑到了舒适度和耐用性，所以无论是穿着还是触感都很好。\n",
      "Human: 休闲装男款都有啥？\n",
      "AI: 我们的休闲装男款有多种选择，例如休闲裤、衬衫、T恤等。我们注重材质和细节，所以这些衣服都使用了高质量的面料和工艺。我们的设计也考虑到了舒适度和耐用性，所以这些衣服穿着非常舒适，并且不容易起球、变形或者褪色。如果您有什么特定的需求或者款式要求，欢迎告诉我们，我们可以帮您找到最适合您的衣服。\n",
      "Human: 国风女装呢？\n",
      "AI:\u001b[0m\n",
      "\n",
      "\u001b[1m> Finished chain.\u001b[0m\n"
     ]
    },
    {
     "data": {
      "text/plain": [
       "'我们的国风女装也是我们的特色之一。我们注重传统文化和时尚元素的结合，所以我们的设计灵感来自于中国传统文化，包括古代绘画、文学作品等等。我们的服装采用了传统手工艺和面料，如丝绸、棉麻等，所以具有独特的风格和质感。同时，我们也考虑到了舒适度和耐用性，所以这些衣服穿着非常舒适，并且不容易起球、变形或者褪色。如果您有什么特定的需求或者款式要求，欢迎告诉我们，我们可以帮您找到最适合您的衣服。'"
      ]
     },
     "execution_count": 14,
     "metadata": {},
     "output_type": "execute_result"
    }
   ],
   "source": [
    "conversation.predict(input=\"国风女装呢？\")"
   ]
  }
 ],
 "metadata": {
  "kernelspec": {
   "display_name": "Python 3 (ipykernel)",
   "language": "python",
   "name": "python3"
  },
  "language_info": {
   "codemirror_mode": {
    "name": "ipython",
    "version": 3
   },
   "file_extension": ".py",
   "mimetype": "text/x-python",
   "name": "python",
   "nbconvert_exporter": "python",
   "pygments_lexer": "ipython3",
   "version": "3.10.13"
  }
 },
 "nbformat": 4,
 "nbformat_minor": 5
}
